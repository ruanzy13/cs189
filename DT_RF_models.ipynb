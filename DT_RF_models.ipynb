{
 "cells": [
  {
   "cell_type": "code",
   "execution_count": 296,
   "metadata": {},
   "outputs": [],
   "source": [
    "rnd_seed = 123\n",
    "\n",
    "import pandas as pd\n",
    "import numpy as np\n",
    "from sklearn.model_selection import train_test_split\n",
    "from sklearn.metrics import accuracy_score\n",
    "from sklearn.tree import DecisionTreeClassifier\n",
    "from sklearn.ensemble import RandomForestClassifier\n",
    "from sklearn.metrics import f1_score\n",
    "from sklearn.model_selection import cross_val_score\n",
    "import matplotlib.pyplot as plt"
   ]
  },
  {
   "cell_type": "code",
   "execution_count": 289,
   "metadata": {},
   "outputs": [
    {
     "data": {
      "text/html": [
       "<div>\n",
       "<style scoped>\n",
       "    .dataframe tbody tr th:only-of-type {\n",
       "        vertical-align: middle;\n",
       "    }\n",
       "\n",
       "    .dataframe tbody tr th {\n",
       "        vertical-align: top;\n",
       "    }\n",
       "\n",
       "    .dataframe thead th {\n",
       "        text-align: right;\n",
       "    }\n",
       "</style>\n",
       "<table border=\"1\" class=\"dataframe\">\n",
       "  <thead>\n",
       "    <tr style=\"text-align: right;\">\n",
       "      <th></th>\n",
       "      <th>Sequence</th>\n",
       "      <th>label</th>\n",
       "      <th>A</th>\n",
       "      <th>C</th>\n",
       "      <th>D</th>\n",
       "      <th>E</th>\n",
       "      <th>F</th>\n",
       "      <th>G</th>\n",
       "      <th>H</th>\n",
       "      <th>I</th>\n",
       "      <th>...</th>\n",
       "      <th>P_11</th>\n",
       "      <th>P_12</th>\n",
       "      <th>P_13</th>\n",
       "      <th>P_14</th>\n",
       "      <th>P_15</th>\n",
       "      <th>P_16</th>\n",
       "      <th>P_17</th>\n",
       "      <th>P_18</th>\n",
       "      <th>P_19</th>\n",
       "      <th>P_20</th>\n",
       "    </tr>\n",
       "  </thead>\n",
       "  <tbody>\n",
       "    <tr>\n",
       "      <th>0</th>\n",
       "      <td>AACKCDDEGPDIRTAPLTGTVDLGSCNAGWEKCASYYTIIADCCRKKK</td>\n",
       "      <td>0.0</td>\n",
       "      <td>0.125000</td>\n",
       "      <td>0.125000</td>\n",
       "      <td>0.104167</td>\n",
       "      <td>0.041667</td>\n",
       "      <td>0.000000</td>\n",
       "      <td>0.083333</td>\n",
       "      <td>0.000000</td>\n",
       "      <td>0.062500</td>\n",
       "      <td>...</td>\n",
       "      <td>0.187500</td>\n",
       "      <td>0.291667</td>\n",
       "      <td>0.416667</td>\n",
       "      <td>0.520833</td>\n",
       "      <td>0.791667</td>\n",
       "      <td>0.083333</td>\n",
       "      <td>0.166667</td>\n",
       "      <td>0.333333</td>\n",
       "      <td>0.666667</td>\n",
       "      <td>1.0</td>\n",
       "    </tr>\n",
       "    <tr>\n",
       "      <th>1</th>\n",
       "      <td>AADAPAQLDPAGEKLYRSACVVCHASGVANAPKLGDKQAWAPFLAQ...</td>\n",
       "      <td>0.0</td>\n",
       "      <td>0.275862</td>\n",
       "      <td>0.022989</td>\n",
       "      <td>0.068966</td>\n",
       "      <td>0.022989</td>\n",
       "      <td>0.011494</td>\n",
       "      <td>0.091954</td>\n",
       "      <td>0.011494</td>\n",
       "      <td>0.000000</td>\n",
       "      <td>...</td>\n",
       "      <td>0.080460</td>\n",
       "      <td>0.275862</td>\n",
       "      <td>0.436782</td>\n",
       "      <td>0.666667</td>\n",
       "      <td>0.850575</td>\n",
       "      <td>0.034483</td>\n",
       "      <td>0.160920</td>\n",
       "      <td>0.425287</td>\n",
       "      <td>0.735632</td>\n",
       "      <td>1.0</td>\n",
       "    </tr>\n",
       "    <tr>\n",
       "      <th>2</th>\n",
       "      <td>AAKKTVTKADLVDQVAQATGLKKKDVKAMVDALLAKVEEALANGSK...</td>\n",
       "      <td>0.0</td>\n",
       "      <td>0.145833</td>\n",
       "      <td>0.000000</td>\n",
       "      <td>0.052083</td>\n",
       "      <td>0.041667</td>\n",
       "      <td>0.031250</td>\n",
       "      <td>0.072917</td>\n",
       "      <td>0.000000</td>\n",
       "      <td>0.020833</td>\n",
       "      <td>...</td>\n",
       "      <td>0.052083</td>\n",
       "      <td>0.197917</td>\n",
       "      <td>0.520833</td>\n",
       "      <td>0.677083</td>\n",
       "      <td>0.906250</td>\n",
       "      <td>0.031250</td>\n",
       "      <td>0.260417</td>\n",
       "      <td>0.614583</td>\n",
       "      <td>0.781250</td>\n",
       "      <td>1.0</td>\n",
       "    </tr>\n",
       "  </tbody>\n",
       "</table>\n",
       "<p>3 rows × 85 columns</p>\n",
       "</div>"
      ],
      "text/plain": [
       "                                            Sequence  label         A  \\\n",
       "0   AACKCDDEGPDIRTAPLTGTVDLGSCNAGWEKCASYYTIIADCCRKKK    0.0  0.125000   \n",
       "1  AADAPAQLDPAGEKLYRSACVVCHASGVANAPKLGDKQAWAPFLAQ...    0.0  0.275862   \n",
       "2  AAKKTVTKADLVDQVAQATGLKKKDVKAMVDALLAKVEEALANGSK...    0.0  0.145833   \n",
       "\n",
       "          C         D         E         F         G         H         I  ...  \\\n",
       "0  0.125000  0.104167  0.041667  0.000000  0.083333  0.000000  0.062500  ...   \n",
       "1  0.022989  0.068966  0.022989  0.011494  0.091954  0.011494  0.000000  ...   \n",
       "2  0.000000  0.052083  0.041667  0.031250  0.072917  0.000000  0.020833  ...   \n",
       "\n",
       "       P_11      P_12      P_13      P_14      P_15      P_16      P_17  \\\n",
       "0  0.187500  0.291667  0.416667  0.520833  0.791667  0.083333  0.166667   \n",
       "1  0.080460  0.275862  0.436782  0.666667  0.850575  0.034483  0.160920   \n",
       "2  0.052083  0.197917  0.520833  0.677083  0.906250  0.031250  0.260417   \n",
       "\n",
       "       P_18      P_19  P_20  \n",
       "0  0.333333  0.666667   1.0  \n",
       "1  0.425287  0.735632   1.0  \n",
       "2  0.614583  0.781250   1.0  \n",
       "\n",
       "[3 rows x 85 columns]"
      ]
     },
     "execution_count": 289,
     "metadata": {},
     "output_type": "execute_result"
    }
   ],
   "source": [
    "#Feature engineered data set\n",
    "data = pd.read_csv(\"LQL_features\")\n",
    "data.head(3)"
   ]
  },
  {
   "cell_type": "code",
   "execution_count": 297,
   "metadata": {},
   "outputs": [
    {
     "name": "stdout",
     "output_type": "stream",
     "text": [
      "X shape (5581, 83)\n",
      "Y shape (5581,)\n",
      "X_train shape =  (5022, 83)\n",
      "y_train shape =  (5022,)\n",
      "X_test shape =  (559, 83)\n",
      "y_test shape =  (559,)\n"
     ]
    }
   ],
   "source": [
    "#Spit Features and Labels for ML models\n",
    "data.dropna(inplace=True)\n",
    "x_data = data.drop(columns=[\"Sequence\",\"label\"])\n",
    "y_data = data[\"label\"]\n",
    "print('X shape', x_data.shape)\n",
    "print('Y shape', y_data.shape)\n",
    "\n",
    "#Train/Test Split\n",
    "X_train, X_test, y_train, y_test = train_test_split(x_data, y_data, test_size=0.1, random_state=123)\n",
    "\n",
    "print('X_train shape = ', X_train.shape)\n",
    "print('y_train shape = ', y_train.shape)\n",
    "print('X_test shape = ', X_test.shape)\n",
    "print('y_test shape = ', y_test.shape)\n",
    "\n"
   ]
  },
  {
   "cell_type": "markdown",
   "metadata": {},
   "source": [
    "###  Decision Trees Hyperparameters\n",
    "##### 1) Criterion: gini > entropy\n",
    "##### 2) Splitter: best > rnd\n",
    "##### 3) Max Depth =  9 (f1 = 0.8218)\n",
    "##### 4) Min_samples_split = Default(2) \n",
    "##### 5) Min_samples_leaf = Default(1) \n",
    "##### 6) min_weight_frac = Default (0.0) \n",
    "##### 7) Number of Features = 61, (f1 = 0.8347)\n",
    "\n",
    "#### Best combo: depth = 10, num_feat = 61, (f1=0.8376)##"
   ]
  },
  {
   "cell_type": "code",
   "execution_count": 291,
   "metadata": {},
   "outputs": [
    {
     "data": {
      "image/png": "[encoded data removed]",
      "text/plain": [
       "<Figure size 576x288 with 1 Axes>"
      ]
     },
     "metadata": {
      "needs_background": "light"
     },
     "output_type": "display_data"
    }
   ],
   "source": [
    "# Tuning Maximum Depth\n",
    "\n",
    "depths = [1,2,3,4,5,6,7,8,9,10,11,12,13,14,15,20,25]\n",
    "all_scores =[]\n",
    "\n",
    "for depth in depths:\n",
    "    clf = DecisionTreeClassifier(max_depth = depth, random_state=123)\n",
    "    scores = cross_val_score(clf,X_train,y_train,scoring='f1',cv=10)\n",
    "    avg_score = np.mean(scores)\n",
    "    all_scores.append(avg_score)\n",
    "    \n",
    "plt.figure(figsize=(8,4))\n",
    "plt.plot(depths,all_scores,'b-s')\n",
    "plt.xlabel('Max Tree Depth',fontsize=12)\n",
    "plt.ylabel('F1 Score',fontsize=12)\n",
    "plt.title('Decision Tree Classifier: Maximum Tree Depth',fontsize=14)\n",
    "plt.grid(which='both')\n",
    "plt.minorticks_on()\n",
    "plt.show()\n",
    "    \n",
    "    "
   ]
  },
  {
   "cell_type": "code",
   "execution_count": 292,
   "metadata": {},
   "outputs": [
    {
     "data": {
      "image/png": "[encoded data removed]",
      "text/plain": [
       "<Figure size 576x288 with 1 Axes>"
      ]
     },
     "metadata": {
      "needs_background": "light"
     },
     "output_type": "display_data"
    }
   ],
   "source": [
    "# Tuning Number of features for best split\n",
    "\n",
    "#After initial trials, observed that it should be somewhere between 40-70 features\n",
    "num_feat = np.arange(40,70)\n",
    "all_scores =[]\n",
    "\n",
    "for feat in num_feat:\n",
    "    clf = DecisionTreeClassifier(max_depth = 9, max_features = feat, random_state=123)\n",
    "    scores = cross_val_score(clf,X_train,y_train,scoring='f1',cv=10)\n",
    "    avg_score = np.mean(scores)\n",
    "    all_scores.append(avg_score)\n",
    "    \n",
    "plt.figure(figsize=(8,4))\n",
    "plt.plot(num_feat,all_scores,'b-s')\n",
    "plt.xlabel('Number of Features',fontsize=12)\n",
    "plt.ylabel('F1 Score',fontsize=12)\n",
    "plt.title('Decision Tree Classifier: Number of Features',fontsize=14)\n",
    "plt.grid(which='both')\n",
    "plt.minorticks_on()\n",
    "plt.show()\n"
   ]
  },
  {
   "cell_type": "code",
   "execution_count": 312,
   "metadata": {},
   "outputs": [
    {
     "name": "stdout",
     "output_type": "stream",
     "text": [
      "DT Training F1 Score =  0.8376854640842349\n",
      "DT Test F1 Score =  0.8311688311688312\n"
     ]
    }
   ],
   "source": [
    "# Best DT Model after hyperparameter tuning:\n",
    "\n",
    "#Training\n",
    "clf = DecisionTreeClassifier(max_depth =10,max_features=61,random_state=123)\n",
    "clf.fit(X_train,y_train)\n",
    "scores = cross_val_score(clf,X_train,y_train,scoring='f1',cv=10)\n",
    "avg_score = np.mean(scores)\n",
    "print('DT Training F1 Score = ', avg_score)\n",
    "\n",
    "#Test\n",
    "test_predict = clf.predict(X_test)\n",
    "test_score = f1_score(test_predict,y_test)\n",
    "print('DT Test F1 Score = ', test_score)"
   ]
  },
  {
   "cell_type": "markdown",
   "metadata": {},
   "source": [
    "### Random Forest Hyperparameters\n",
    "\n",
    "##### 1) Max Tree Depth = 14   (0.8765)\n",
    "##### 2) Number of trees = 72  (0.8823)\n",
    "\n",
    "\n",
    "#### Best combo: depth = 14, num_trees = 72, (f1=0.9041)##"
   ]
  },
  {
   "cell_type": "code",
   "execution_count": 304,
   "metadata": {},
   "outputs": [
    {
     "data": {
      "image/png": "[encoded data removed]",
      "text/plain": [
       "<Figure size 576x288 with 1 Axes>"
      ]
     },
     "metadata": {
      "needs_background": "light"
     },
     "output_type": "display_data"
    }
   ],
   "source": [
    "# Tuning Maximum Depth\n",
    "\n",
    "depths = [1,2,3,4,5,6,7,8,9,10,11,12,13,14,15,20,25]\n",
    "all_scores =[]\n",
    "\n",
    "for depth in depths:\n",
    "    clf = RandomForestClassifier(n_estimators=100,max_depth = depth, random_state=123)\n",
    "    scores = cross_val_score(clf,X_train,y_train,scoring='f1',cv=10)\n",
    "    avg_score = np.mean(scores)\n",
    "    all_scores.append(avg_score)\n",
    "    \n",
    "plt.figure(figsize=(8,4))\n",
    "plt.plot(depths,all_scores,'b-s')\n",
    "plt.xlabel('Max Tree Depth',fontsize=12)\n",
    "plt.ylabel('F1 Score',fontsize=12)\n",
    "plt.title('Random Forest: Maximum Tree Depth',fontsize=14)\n",
    "plt.grid(which='both')\n",
    "plt.minorticks_on()\n",
    "plt.show()\n",
    "    "
   ]
  },
  {
   "cell_type": "code",
   "execution_count": 305,
   "metadata": {},
   "outputs": [
    {
     "data": {
      "text/plain": [
       "0.8764973346984627"
      ]
     },
     "execution_count": 305,
     "metadata": {},
     "output_type": "execute_result"
    }
   ],
   "source": [
    "max(all_scores)"
   ]
  },
  {
   "cell_type": "code",
   "execution_count": 310,
   "metadata": {},
   "outputs": [
    {
     "data": {
      "image/png": "[encoded data removed]",
      "text/plain": [
       "<Figure size 576x288 with 1 Axes>"
      ]
     },
     "metadata": {
      "needs_background": "light"
     },
     "output_type": "display_data"
    }
   ],
   "source": [
    "# Tuning Num Trees\n",
    "\n",
    "num_trees = [50,55,60,65,66,67,68,69,70,71,72,73,74,75,80,85,90,100]\n",
    "all_scores =[]\n",
    "\n",
    "for trees in num_trees:\n",
    "    clf = RandomForestClassifier(n_estimators=trees,max_depth = 14, random_state=123)\n",
    "    scores = cross_val_score(clf,X_train,y_train,scoring='f1',cv=10)\n",
    "    avg_score = np.mean(scores)\n",
    "    all_scores.append(avg_score)\n",
    "    \n",
    "plt.figure(figsize=(8,4))\n",
    "plt.plot(num_trees,all_scores,'b-s')\n",
    "plt.xlabel('Num of Trees',fontsize=12)\n",
    "plt.ylabel('F1 Score',fontsize=12)\n",
    "plt.title('Random Forest: Number of Trees',fontsize=14)\n",
    "plt.grid(which='both')\n",
    "plt.minorticks_on()\n",
    "plt.show()\n",
    "    "
   ]
  },
  {
   "cell_type": "code",
   "execution_count": 311,
   "metadata": {},
   "outputs": [
    {
     "data": {
      "text/plain": [
       "0.8823106026592897"
      ]
     },
     "execution_count": 311,
     "metadata": {},
     "output_type": "execute_result"
    }
   ],
   "source": [
    "max(all_scores)"
   ]
  },
  {
   "cell_type": "code",
   "execution_count": 313,
   "metadata": {},
   "outputs": [
    {
     "name": "stdout",
     "output_type": "stream",
     "text": [
      "RF Training F1 Score =  0.8823106026592897\n",
      "RF Test F1 Score =  0.9041095890410958\n"
     ]
    }
   ],
   "source": [
    "# Best RF Model after hyperparameter tuning:\n",
    "\n",
    "#Training\n",
    "clf = RandomForestClassifier(n_estimators=72,max_depth = 14, random_state=123)\n",
    "clf.fit(X_train,y_train)\n",
    "scores = cross_val_score(clf,X_train,y_train,scoring='f1',cv=10)\n",
    "avg_score = np.mean(scores)\n",
    "print('RF Training F1 Score = ', avg_score)\n",
    "\n",
    "#Test\n",
    "test_predict = clf.predict(X_test)\n",
    "test_score = f1_score(test_predict,y_test)\n",
    "print('RF Test F1 Score = ', test_score)"
   ]
  }
 ],
 "metadata": {
  "kernelspec": {
   "display_name": "Python 3",
   "language": "python",
   "name": "python3"
  },
  "language_info": {
   "codemirror_mode": {
    "name": "ipython",
    "version": 3
   },
   "file_extension": ".py",
   "mimetype": "text/x-python",
   "name": "python",
   "nbconvert_exporter": "python",
   "pygments_lexer": "ipython3",
   "version": "3.7.1"
  }
 },
 "nbformat": 4,
 "nbformat_minor": 2
}
