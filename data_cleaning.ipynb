{
 "cells": [
  {
   "cell_type": "code",
   "execution_count": 161,
   "id": "f9508e1a",
   "metadata": {},
   "outputs": [],
   "source": [
    "import pandas as pd\n",
    "import numpy as np"
   ]
  },
  {
   "cell_type": "code",
   "execution_count": 162,
   "id": "84aaf249",
   "metadata": {},
   "outputs": [],
   "source": [
    "data_llps = pd.read_excel('LLPS.xls') \n",
    "data_proteins = pd.read_excel(\"protein.xls\")"
   ]
  },
  {
   "cell_type": "code",
   "execution_count": 188,
   "id": "e9a215e5",
   "metadata": {},
   "outputs": [
    {
     "name": "stderr",
     "output_type": "stream",
     "text": [
      "/Users/ruanzy/anaconda3/lib/python3.6/site-packages/ipykernel_launcher.py:8: SettingWithCopyWarning: \n",
      "A value is trying to be set on a copy of a slice from a DataFrame.\n",
      "Try using .loc[row_indexer,col_indexer] = value instead\n",
      "\n",
      "See the caveats in the documentation: https://pandas.pydata.org/pandas-docs/stable/user_guide/indexing.html#returning-a-view-versus-a-copy\n",
      "  \n"
     ]
    }
   ],
   "source": [
    "# Useful features\n",
    "data_llps = data_llps[['Protein ID','Protein structure type','Nucleic acid',\\\n",
    "                       'Solute concentration','Salt concentration', 'Crowding agent','Temperature','other molecules',\\\n",
    "                      'Phase separation','Morphology']]\n",
    "# Extract protein sequences\n",
    "df_sequence = data_proteins[['PID','Sequence']]\n",
    "sequences = df_sequence['Sequence'].apply(lambda x: x.split(';')[1:]).str.join(\"\")\n",
    "df_sequence['clean_sequences'] = sequences\n",
    "\n",
    "# Add protein sequence into dataset\n",
    "data = data_llps.join(df_sequence.set_index('PID'), on='Protein ID')\n",
    "data.drop(columns=['Sequence','Phase separation'],inplace = True)\n",
    "\n",
    "# Add label\n",
    "data['label'] = 1 * data['Morphology'].str.contains(\"droplet\")\n",
    "data.drop(columns=['Morphology'], inplace = True)\n",
    "\n",
    "# Replace salt concentration with values\n",
    "data['Salt concentration'].fillna(\"\", inplace = True)\n",
    "data['Salt concentration'] = data['Salt concentration'].apply(lambda x: x.split(' ')[0])\n",
    "\n",
    "# Replace Crowding agent with 1 (existed) or 0\n",
    "data['Crowding agent'] = 1 * data['Crowding agent'].apply(lambda x: x != \"-\")"
   ]
  },
  {
   "cell_type": "code",
   "execution_count": null,
   "id": "20b80d6d",
   "metadata": {},
   "outputs": [],
   "source": []
  }
 ],
 "metadata": {
  "kernelspec": {
   "display_name": "Python 3",
   "language": "python",
   "name": "python3"
  },
  "language_info": {
   "codemirror_mode": {
    "name": "ipython",
    "version": 3
   },
   "file_extension": ".py",
   "mimetype": "text/x-python",
   "name": "python",
   "nbconvert_exporter": "python",
   "pygments_lexer": "ipython3",
   "version": "3.6.13"
  }
 },
 "nbformat": 4,
 "nbformat_minor": 5
}
